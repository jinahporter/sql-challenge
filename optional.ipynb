{
 "cells": [
  {
   "cell_type": "markdown",
   "metadata": {},
   "source": [
    "# Extra (Optional Work)\n",
    "\n",
    "As you examine the data, you are overcome with a creeping suspicion that the dataset is fake. You surmise that your boss handed you spurious data in order to test the data engineering skills of a new employee. To confirm your hunch, you decide to take the following steps to generate a visualization of the data, with which you will confront your boss:\n",
    "\n",
    "1. Import the SQL database into Pandas. (Yes, you could read the CSVs directly in Pandas, but you are, after all, trying to prove your technical mettle.) This step may require some research. Feel free to use the code below to get started. Be sure to make any necessary modifications for your username, password, host, port, and database name:\n",
    "\n",
    "   ```sql\n",
    "   from sqlalchemy import create_engine\n",
    "   engine = create_engine('postgresql://localhost:5432/<your_db_name>')\n",
    "   connection = engine.connect()\n",
    "   ```\n",
    "\n",
    "* Consult [SQLAlchemy documentation](https://docs.sqlalchemy.org/en/latest/core/engines.html#postgresql) for more information.\n",
    "\n",
    "* If using a password, do not upload your password to your GitHub repository. See [https://www.youtube.com/watch?v=2uaTPmNvH0I](https://www.youtube.com/watch?v=2uaTPmNvH0I) and [https://help.github.com/en/github/using-git/ignoring-files](https://help.github.com/en/github/using-git/ignoring-files) for more information."
   ]
  },
  {
   "cell_type": "markdown",
   "metadata": {},
   "source": [
    "### Import dependencies"
   ]
  },
  {
   "cell_type": "code",
   "execution_count": 41,
   "metadata": {},
   "outputs": [],
   "source": [
    "import pandas as pd\n",
    "from sqlalchemy import create_engine\n",
    "import matplotlib.pyplot as plt\n",
    "import numpy as np\n",
    "from config import db_password"
   ]
  },
  {
   "cell_type": "code",
   "execution_count": 42,
   "metadata": {},
   "outputs": [],
   "source": [
    "db_user = 'postgres'\n",
    "db_host = 'localhost'\n",
    "db_port = 5432\n",
    "\n",
    "db_name = \"SQL_Homework(9)\"\n",
    "\n",
    "engine = create_engine(f\"postgres://{db_user}:{db_password}@{db_host}:{db_port}/{db_name}\")\n",
    "connection = engine.connect()"
   ]
  },
  {
   "cell_type": "code",
   "execution_count": 43,
   "metadata": {},
   "outputs": [
    {
     "data": {
      "text/html": [
       "<div>\n",
       "<style scoped>\n",
       "    .dataframe tbody tr th:only-of-type {\n",
       "        vertical-align: middle;\n",
       "    }\n",
       "\n",
       "    .dataframe tbody tr th {\n",
       "        vertical-align: top;\n",
       "    }\n",
       "\n",
       "    .dataframe thead th {\n",
       "        text-align: right;\n",
       "    }\n",
       "</style>\n",
       "<table border=\"1\" class=\"dataframe\">\n",
       "  <thead>\n",
       "    <tr style=\"text-align: right;\">\n",
       "      <th></th>\n",
       "      <th>emp_no</th>\n",
       "      <th>title_id</th>\n",
       "      <th>birth_date</th>\n",
       "      <th>fist_name</th>\n",
       "      <th>last_name</th>\n",
       "      <th>sex</th>\n",
       "      <th>hire_date</th>\n",
       "    </tr>\n",
       "  </thead>\n",
       "  <tbody>\n",
       "    <tr>\n",
       "      <th>0</th>\n",
       "      <td>249484.0</td>\n",
       "      <td>s0002</td>\n",
       "      <td>1961-08-04</td>\n",
       "      <td>Phuoc</td>\n",
       "      <td>Miculan</td>\n",
       "      <td>M</td>\n",
       "      <td>1987-05-03</td>\n",
       "    </tr>\n",
       "    <tr>\n",
       "      <th>1</th>\n",
       "      <td>31627.0</td>\n",
       "      <td>e0004</td>\n",
       "      <td>1960-08-03</td>\n",
       "      <td>Kellie</td>\n",
       "      <td>Silva</td>\n",
       "      <td>M</td>\n",
       "      <td>1990-07-25</td>\n",
       "    </tr>\n",
       "    <tr>\n",
       "      <th>2</th>\n",
       "      <td>420245.0</td>\n",
       "      <td>e0004</td>\n",
       "      <td>1961-02-22</td>\n",
       "      <td>Kristian</td>\n",
       "      <td>Pero</td>\n",
       "      <td>M</td>\n",
       "      <td>1986-12-04</td>\n",
       "    </tr>\n",
       "    <tr>\n",
       "      <th>3</th>\n",
       "      <td>299732.0</td>\n",
       "      <td>s0001</td>\n",
       "      <td>1952-07-19</td>\n",
       "      <td>Mang</td>\n",
       "      <td>Sidhu</td>\n",
       "      <td>F</td>\n",
       "      <td>1987-04-22</td>\n",
       "    </tr>\n",
       "    <tr>\n",
       "      <th>4</th>\n",
       "      <td>36968.0</td>\n",
       "      <td>s0001</td>\n",
       "      <td>1952-07-21</td>\n",
       "      <td>Shin</td>\n",
       "      <td>Siprelle</td>\n",
       "      <td>M</td>\n",
       "      <td>1985-04-16</td>\n",
       "    </tr>\n",
       "  </tbody>\n",
       "</table>\n",
       "</div>"
      ],
      "text/plain": [
       "     emp_no title_id  birth_date fist_name last_name sex   hire_date\n",
       "0  249484.0    s0002  1961-08-04     Phuoc   Miculan   M  1987-05-03\n",
       "1   31627.0    e0004  1960-08-03    Kellie     Silva   M  1990-07-25\n",
       "2  420245.0    e0004  1961-02-22  Kristian      Pero   M  1986-12-04\n",
       "3  299732.0    s0001  1952-07-19      Mang     Sidhu   F  1987-04-22\n",
       "4   36968.0    s0001  1952-07-21      Shin  Siprelle   M  1985-04-16"
      ]
     },
     "execution_count": 43,
     "metadata": {},
     "output_type": "execute_result"
    }
   ],
   "source": [
    "data_employees = pd.read_sql(\"SELECT * FROM employees\", engine)\n",
    "data_employees.head()"
   ]
  },
  {
   "cell_type": "code",
   "execution_count": 44,
   "metadata": {},
   "outputs": [
    {
     "data": {
      "text/html": [
       "<div>\n",
       "<style scoped>\n",
       "    .dataframe tbody tr th:only-of-type {\n",
       "        vertical-align: middle;\n",
       "    }\n",
       "\n",
       "    .dataframe tbody tr th {\n",
       "        vertical-align: top;\n",
       "    }\n",
       "\n",
       "    .dataframe thead th {\n",
       "        text-align: right;\n",
       "    }\n",
       "</style>\n",
       "<table border=\"1\" class=\"dataframe\">\n",
       "  <thead>\n",
       "    <tr style=\"text-align: right;\">\n",
       "      <th></th>\n",
       "      <th>emp_no</th>\n",
       "      <th>salary</th>\n",
       "    </tr>\n",
       "  </thead>\n",
       "  <tbody>\n",
       "    <tr>\n",
       "      <th>0</th>\n",
       "      <td>10001.0</td>\n",
       "      <td>$60,117.00</td>\n",
       "    </tr>\n",
       "    <tr>\n",
       "      <th>1</th>\n",
       "      <td>10002.0</td>\n",
       "      <td>$65,828.00</td>\n",
       "    </tr>\n",
       "    <tr>\n",
       "      <th>2</th>\n",
       "      <td>10003.0</td>\n",
       "      <td>$40,006.00</td>\n",
       "    </tr>\n",
       "    <tr>\n",
       "      <th>3</th>\n",
       "      <td>10004.0</td>\n",
       "      <td>$40,054.00</td>\n",
       "    </tr>\n",
       "    <tr>\n",
       "      <th>4</th>\n",
       "      <td>10005.0</td>\n",
       "      <td>$78,228.00</td>\n",
       "    </tr>\n",
       "  </tbody>\n",
       "</table>\n",
       "</div>"
      ],
      "text/plain": [
       "    emp_no      salary\n",
       "0  10001.0  $60,117.00\n",
       "1  10002.0  $65,828.00\n",
       "2  10003.0  $40,006.00\n",
       "3  10004.0  $40,054.00\n",
       "4  10005.0  $78,228.00"
      ]
     },
     "execution_count": 44,
     "metadata": {},
     "output_type": "execute_result"
    }
   ],
   "source": [
    "data_salaries = pd.read_sql(\"SELECT * FROM salaries\", engine)\n",
    "data_salaries.head()"
   ]
  },
  {
   "cell_type": "code",
   "execution_count": 45,
   "metadata": {},
   "outputs": [
    {
     "data": {
      "text/html": [
       "<div>\n",
       "<style scoped>\n",
       "    .dataframe tbody tr th:only-of-type {\n",
       "        vertical-align: middle;\n",
       "    }\n",
       "\n",
       "    .dataframe tbody tr th {\n",
       "        vertical-align: top;\n",
       "    }\n",
       "\n",
       "    .dataframe thead th {\n",
       "        text-align: right;\n",
       "    }\n",
       "</style>\n",
       "<table border=\"1\" class=\"dataframe\">\n",
       "  <thead>\n",
       "    <tr style=\"text-align: right;\">\n",
       "      <th></th>\n",
       "      <th>title_id</th>\n",
       "      <th>title</th>\n",
       "    </tr>\n",
       "  </thead>\n",
       "  <tbody>\n",
       "    <tr>\n",
       "      <th>0</th>\n",
       "      <td>s0001</td>\n",
       "      <td>Staff</td>\n",
       "    </tr>\n",
       "    <tr>\n",
       "      <th>1</th>\n",
       "      <td>s0002</td>\n",
       "      <td>Senior Staff</td>\n",
       "    </tr>\n",
       "    <tr>\n",
       "      <th>2</th>\n",
       "      <td>e0001</td>\n",
       "      <td>Assistant Engineer</td>\n",
       "    </tr>\n",
       "    <tr>\n",
       "      <th>3</th>\n",
       "      <td>e0002</td>\n",
       "      <td>Engineer</td>\n",
       "    </tr>\n",
       "    <tr>\n",
       "      <th>4</th>\n",
       "      <td>e0003</td>\n",
       "      <td>Senior Engineer</td>\n",
       "    </tr>\n",
       "  </tbody>\n",
       "</table>\n",
       "</div>"
      ],
      "text/plain": [
       "  title_id               title\n",
       "0    s0001               Staff\n",
       "1    s0002        Senior Staff\n",
       "2    e0001  Assistant Engineer\n",
       "3    e0002            Engineer\n",
       "4    e0003     Senior Engineer"
      ]
     },
     "execution_count": 45,
     "metadata": {},
     "output_type": "execute_result"
    }
   ],
   "source": [
    "data_title = pd.read_sql(\"SELECT * FROM titles\", engine)\n",
    "data_title.head()"
   ]
  },
  {
   "cell_type": "code",
   "execution_count": 11,
   "metadata": {},
   "outputs": [
    {
     "data": {
      "text/html": [
       "<div>\n",
       "<style scoped>\n",
       "    .dataframe tbody tr th:only-of-type {\n",
       "        vertical-align: middle;\n",
       "    }\n",
       "\n",
       "    .dataframe tbody tr th {\n",
       "        vertical-align: top;\n",
       "    }\n",
       "\n",
       "    .dataframe thead th {\n",
       "        text-align: right;\n",
       "    }\n",
       "</style>\n",
       "<table border=\"1\" class=\"dataframe\">\n",
       "  <thead>\n",
       "    <tr style=\"text-align: right;\">\n",
       "      <th></th>\n",
       "      <th>emp_no</th>\n",
       "      <th>title_id</th>\n",
       "      <th>birth_date</th>\n",
       "      <th>fist_name</th>\n",
       "      <th>last_name</th>\n",
       "      <th>sex</th>\n",
       "      <th>hire_date</th>\n",
       "      <th>title</th>\n",
       "      <th>salary</th>\n",
       "    </tr>\n",
       "  </thead>\n",
       "  <tbody>\n",
       "    <tr>\n",
       "      <th>0</th>\n",
       "      <td>249484.0</td>\n",
       "      <td>s0002</td>\n",
       "      <td>1961-08-04</td>\n",
       "      <td>Phuoc</td>\n",
       "      <td>Miculan</td>\n",
       "      <td>M</td>\n",
       "      <td>1987-05-03</td>\n",
       "      <td>Senior Staff</td>\n",
       "      <td>$53,893.00</td>\n",
       "    </tr>\n",
       "    <tr>\n",
       "      <th>1</th>\n",
       "      <td>450092.0</td>\n",
       "      <td>s0002</td>\n",
       "      <td>1957-04-03</td>\n",
       "      <td>Danco</td>\n",
       "      <td>Peha</td>\n",
       "      <td>M</td>\n",
       "      <td>1985-10-05</td>\n",
       "      <td>Senior Staff</td>\n",
       "      <td>$40,000.00</td>\n",
       "    </tr>\n",
       "    <tr>\n",
       "      <th>2</th>\n",
       "      <td>26883.0</td>\n",
       "      <td>s0002</td>\n",
       "      <td>1964-02-01</td>\n",
       "      <td>Mohua</td>\n",
       "      <td>Versino</td>\n",
       "      <td>M</td>\n",
       "      <td>1991-07-07</td>\n",
       "      <td>Senior Staff</td>\n",
       "      <td>$40,000.00</td>\n",
       "    </tr>\n",
       "    <tr>\n",
       "      <th>3</th>\n",
       "      <td>288296.0</td>\n",
       "      <td>s0002</td>\n",
       "      <td>1963-07-17</td>\n",
       "      <td>Shahar</td>\n",
       "      <td>Hutton</td>\n",
       "      <td>F</td>\n",
       "      <td>1986-09-16</td>\n",
       "      <td>Senior Staff</td>\n",
       "      <td>$40,000.00</td>\n",
       "    </tr>\n",
       "    <tr>\n",
       "      <th>4</th>\n",
       "      <td>90347.0</td>\n",
       "      <td>s0002</td>\n",
       "      <td>1959-03-29</td>\n",
       "      <td>Mari</td>\n",
       "      <td>Nanard</td>\n",
       "      <td>F</td>\n",
       "      <td>1986-04-06</td>\n",
       "      <td>Senior Staff</td>\n",
       "      <td>$43,064.00</td>\n",
       "    </tr>\n",
       "  </tbody>\n",
       "</table>\n",
       "</div>"
      ],
      "text/plain": [
       "     emp_no title_id  birth_date fist_name last_name sex   hire_date  \\\n",
       "0  249484.0    s0002  1961-08-04     Phuoc   Miculan   M  1987-05-03   \n",
       "1  450092.0    s0002  1957-04-03     Danco      Peha   M  1985-10-05   \n",
       "2   26883.0    s0002  1964-02-01     Mohua   Versino   M  1991-07-07   \n",
       "3  288296.0    s0002  1963-07-17    Shahar    Hutton   F  1986-09-16   \n",
       "4   90347.0    s0002  1959-03-29      Mari    Nanard   F  1986-04-06   \n",
       "\n",
       "          title      salary  \n",
       "0  Senior Staff  $53,893.00  \n",
       "1  Senior Staff  $40,000.00  \n",
       "2  Senior Staff  $40,000.00  \n",
       "3  Senior Staff  $40,000.00  \n",
       "4  Senior Staff  $43,064.00  "
      ]
     },
     "execution_count": 11,
     "metadata": {},
     "output_type": "execute_result"
    }
   ],
   "source": [
    "combined_data = pd.merge(data_employees, data_title, on=\"title_id\", how=\"outer\")\n",
    "\n",
    "combined_data2 = pd.merge(combined_data, data_salaries, on=\"emp_no\", how=\"outer\")\n",
    "combined_data2.head()"
   ]
  },
  {
   "cell_type": "code",
   "execution_count": 22,
   "metadata": {},
   "outputs": [
    {
     "data": {
      "text/plain": [
       "emp_no        float64\n",
       "title_id       object\n",
       "birth_date     object\n",
       "fist_name      object\n",
       "last_name      object\n",
       "sex            object\n",
       "hire_date      object\n",
       "title          object\n",
       "salary         object\n",
       "dtype: object"
      ]
     },
     "execution_count": 22,
     "metadata": {},
     "output_type": "execute_result"
    }
   ],
   "source": [
    "combined_data2.dtypes"
   ]
  },
  {
   "cell_type": "code",
   "execution_count": null,
   "metadata": {},
   "outputs": [],
   "source": [
    "#2. Create a histogram to visualize the most common salary ranges for employees."
   ]
  },
  {
   "cell_type": "code",
   "execution_count": 53,
   "metadata": {},
   "outputs": [
    {
     "data": {
      "image/png": "[encoded data removed]",
      "text/plain": [
       "<Figure size 432x288 with 1 Axes>"
      ]
     },
     "metadata": {
      "needs_background": "light"
     },
     "output_type": "display_data"
    }
   ],
   "source": [
    "plt.hist(combined_data2[\"salary\"], label=\"Salary($/Yr)\")\n",
    "plt.xlabel(\"Salary($/Yr)\")\n",
    "plt.ylabel(\"Number of Employees\")\n",
    "plt.legend()\n",
    "plt.title(\"Salary Ranges for Employees\")\n",
    "\n",
    "plt.savefig(\"#2 - Salary Ranges\")\n",
    "plt.show()"
   ]
  },
  {
   "cell_type": "code",
   "execution_count": null,
   "metadata": {},
   "outputs": [],
   "source": [
    "#3. Create a bar chart of average salary by title."
   ]
  },
  {
   "cell_type": "code",
   "execution_count": 32,
   "metadata": {},
   "outputs": [],
   "source": [
    "# convert the salary datatype from object to float\n",
    "import locale\n",
    "import pandas as pd\n",
    "locale.setlocale(locale.LC_ALL,'')\n",
    "combined_data2['salary']=combined_data2.salary.map(lambda x: locale.atof(x.strip('$')))"
   ]
  },
  {
   "cell_type": "code",
   "execution_count": 33,
   "metadata": {},
   "outputs": [
    {
     "data": {
      "text/plain": [
       "emp_no        float64\n",
       "title_id       object\n",
       "birth_date     object\n",
       "fist_name      object\n",
       "last_name      object\n",
       "sex            object\n",
       "hire_date      object\n",
       "title          object\n",
       "salary        float64\n",
       "dtype: object"
      ]
     },
     "execution_count": 33,
     "metadata": {},
     "output_type": "execute_result"
    }
   ],
   "source": [
    "combined_data2.dtypes"
   ]
  },
  {
   "cell_type": "code",
   "execution_count": 36,
   "metadata": {},
   "outputs": [
    {
     "data": {
      "text/plain": [
       "title\n",
       "Assistant Engineer    48564.434447\n",
       "Engineer              48535.336511\n",
       "Manager               51531.041667\n",
       "Senior Engineer       48506.799871\n",
       "Senior Staff          58550.172704\n",
       "Name: salary, dtype: float64"
      ]
     },
     "execution_count": 36,
     "metadata": {},
     "output_type": "execute_result"
    }
   ],
   "source": [
    "#calculate salary mean, group by the job title\n",
    "salary_group = combined_data2.groupby(\"title\")[\"salary\"].mean()\n",
    "salary_group.head()"
   ]
  },
  {
   "cell_type": "code",
   "execution_count": 52,
   "metadata": {},
   "outputs": [
    {
     "data": {
      "image/png": "[encoded data removed]",
      "text/plain": [
       "<Figure size 432x288 with 1 Axes>"
      ]
     },
     "metadata": {
      "needs_background": "light"
     },
     "output_type": "display_data"
    }
   ],
   "source": [
    "#create the bar chart \n",
    "salary_group.plot(kind=\"bar\", label=\"Avg Salary ($/Yr)\")\n",
    "plt.xlabel(\"Job Title\")\n",
    "plt.ylabel(\"Average Salary ($/Year)\")\n",
    "plt.title(\"Average Salary for Jobs\")\n",
    "plt.legend()\n",
    "\n",
    "plt.savefig(\"#3 - Average Salary\")\n",
    "plt.show()"
   ]
  }
 ],
 "metadata": {
  "anaconda-cloud": {},
  "kernelspec": {
   "display_name": "Python 3",
   "language": "python",
   "name": "python3"
  },
  "language_info": {
   "codemirror_mode": {
    "name": "ipython",
    "version": 3
   },
   "file_extension": ".py",
   "mimetype": "text/x-python",
   "name": "python",
   "nbconvert_exporter": "python",
   "pygments_lexer": "ipython3",
   "version": "3.8.3"
  },
  "varInspector": {
   "cols": {
    "lenName": 16,
    "lenType": 16,
    "lenVar": 40
   },
   "kernels_config": {
    "python": {
     "delete_cmd_postfix": "",
     "delete_cmd_prefix": "del ",
     "library": "var_list.py",
     "varRefreshCmd": "print(var_dic_list())"
    },
    "r": {
     "delete_cmd_postfix": ") ",
     "delete_cmd_prefix": "rm(",
     "library": "var_list.r",
     "varRefreshCmd": "cat(var_dic_list()) "
    }
   },
   "types_to_exclude": [
    "module",
    "function",
    "builtin_function_or_method",
    "instance",
    "_Feature"
   ],
   "window_display": false
  }
 },
 "nbformat": 4,
 "nbformat_minor": 4
}
